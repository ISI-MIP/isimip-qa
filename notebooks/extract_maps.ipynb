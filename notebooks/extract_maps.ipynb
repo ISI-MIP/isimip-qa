{
 "cells": [
  {
   "cell_type": "code",
   "execution_count": null,
   "id": "a049d893-9e8a-4f6b-a6df-548f65c30959",
   "metadata": {},
   "outputs": [],
   "source": [
    "from isimip_qa.main import init_settings\n",
    "from isimip_qa.models import Dataset, Region, Period\n",
    "from isimip_qa.extractions import AttrsExtraction, MeanMapExtraction\n",
    "from isimip_qa.plots import MapPlot"
   ]
  },
  {
   "cell_type": "code",
   "execution_count": null,
   "id": "aaba52ff-b89d-4dba-9eaa-eaca50d92fff",
   "metadata": {},
   "outputs": [],
   "source": [
    "settings = init_settings(\n",
    "    datasets_path='~/data/isimip/qa/datasets',\n",
    "    extractions_path='~/data/isimip/qa/extractions'\n",
    ")"
   ]
  },
  {
   "cell_type": "code",
   "execution_count": null,
   "id": "f78af871-d7af-43eb-85c9-802c996f61ce",
   "metadata": {},
   "outputs": [],
   "source": [
    "dataset = Dataset('ISIMIP3b/InputData/climate/atmosphere/bias-adjusted/global/daily/ssp585/GFDL-ESM4/gfdl-esm4_r1i1p1f1_w5e5_ssp585_tas_global_daily')\n",
    "periods = [Period(type='slice', start_date=i, end_date=i+9) for i in range(2021, 2100, 10)]"
   ]
  },
  {
   "cell_type": "code",
   "execution_count": null,
   "id": "aa12700e-09bb-4267-9dc7-ae3d20d15216",
   "metadata": {},
   "outputs": [],
   "source": [
    "extractions = []\n",
    "for period in periods:\n",
    "    extractions.append(MeanMapExtraction(dataset, period=period))\n",
    "extractions.append(AttrsExtraction(dataset, period=periods[0]))"
   ]
  },
  {
   "cell_type": "code",
   "execution_count": null,
   "id": "0d9f86f8-2e04-4172-a70a-e6ad717ec01a",
   "metadata": {},
   "outputs": [],
   "source": [
    "for file in dataset.files:\n",
    "    file.open()\n",
    "    for extraction in extractions:\n",
    "        extraction.extract(file)\n",
    "    file.close()"
   ]
  },
  {
   "cell_type": "code",
   "execution_count": null,
   "id": "a55ce7e0-9b98-496f-8900-c6b5f911cd47",
   "metadata": {},
   "outputs": [],
   "source": [
    "for period in periods:\n",
    "    plot = MapPlot(MeanMapExtraction, [dataset], period=period)\n",
    "    plot.create()"
   ]
  }
 ],
 "metadata": {
  "kernelspec": {
   "display_name": "Python 3 (ipykernel)",
   "language": "python",
   "name": "python3"
  },
  "language_info": {
   "codemirror_mode": {
    "name": "ipython",
    "version": 3
   },
   "file_extension": ".py",
   "mimetype": "text/x-python",
   "name": "python",
   "nbconvert_exporter": "python",
   "pygments_lexer": "ipython3",
   "version": "3.11.0"
  }
 },
 "nbformat": 4,
 "nbformat_minor": 5
}
