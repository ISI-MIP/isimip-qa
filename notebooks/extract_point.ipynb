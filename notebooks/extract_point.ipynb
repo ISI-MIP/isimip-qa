{
 "cells": [
  {
   "cell_type": "code",
   "execution_count": null,
   "id": "eac40674-f126-4b5f-8b4d-eff0740cb3df",
   "metadata": {},
   "outputs": [],
   "source": [
    "from isimip_qa.main import init_settings\n",
    "from isimip_qa.models import Dataset, Region, Period\n",
    "from isimip_qa.extractions import MeanExtraction, AttrsExtraction\n",
    "from isimip_qa.plots import YearlyPlot"
   ]
  },
  {
   "cell_type": "code",
   "execution_count": null,
   "id": "fa8e3982-5473-438f-87b1-bbdfa0a96baa",
   "metadata": {},
   "outputs": [],
   "source": [
    "settings = init_settings(\n",
    "    datasets_path='~/data/isimip/qa/datasets',\n",
    "    extractions_path='~/data/isimip/qa/extractions'\n",
    ")"
   ]
  },
  {
   "cell_type": "code",
   "execution_count": null,
   "id": "ad0e382d-0eb9-41cd-b3e4-fc6d018671cd",
   "metadata": {},
   "outputs": [],
   "source": [
    "dataset = Dataset('ISIMIP3b/InputData/climate/atmosphere/bias-adjusted/global/daily/ssp585/GFDL-ESM4/gfdl-esm4_r1i1p1f1_w5e5_ssp585_tas_global_daily')\n",
    "region = Region(specifier='potsdam', type='point', lat=52.395833, lon=13.061389)"
   ]
  },
  {
   "cell_type": "code",
   "execution_count": null,
   "id": "4aef2b63-db37-4db5-805e-a1d4e1e69954",
   "metadata": {},
   "outputs": [],
   "source": [
    "mean_extraction = MeanExtraction(dataset, region=region)\n",
    "attrs_extraction = AttrsExtraction(dataset, region=region)"
   ]
  },
  {
   "cell_type": "code",
   "execution_count": null,
   "id": "be2e4158-a1ca-45ed-b8ea-3be3fcd59cc0",
   "metadata": {},
   "outputs": [],
   "source": [
    "for file in dataset.files:\n",
    "    file.open()\n",
    "    mean_extraction.extract(file)\n",
    "    attrs_extraction.extract(file)\n",
    "    file.close()"
   ]
  },
  {
   "cell_type": "code",
   "execution_count": null,
   "id": "f96e5ccd-9407-4133-be4e-2f410317ffda",
   "metadata": {},
   "outputs": [],
   "source": [
    "plot = YearlyPlot(MeanExtraction, [dataset], region=region)\n",
    "plot.create()"
   ]
  }
 ],
 "metadata": {
  "kernelspec": {
   "display_name": "Python 3 (ipykernel)",
   "language": "python",
   "name": "python3"
  },
  "language_info": {
   "codemirror_mode": {
    "name": "ipython",
    "version": 3
   },
   "file_extension": ".py",
   "mimetype": "text/x-python",
   "name": "python",
   "nbconvert_exporter": "python",
   "pygments_lexer": "ipython3",
   "version": "3.11.0"
  }
 },
 "nbformat": 4,
 "nbformat_minor": 5
}
