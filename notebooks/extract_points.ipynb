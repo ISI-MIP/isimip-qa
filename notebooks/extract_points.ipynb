{
 "cells": [
  {
   "cell_type": "code",
   "execution_count": 1,
   "id": "c820d185-b5f8-443e-8992-b685838f8a80",
   "metadata": {},
   "outputs": [],
   "source": [
    "import random\n",
    "\n",
    "from isimip_qa.main import init_settings\n",
    "from isimip_qa.models import Dataset, Region\n",
    "from isimip_qa.extractions import MeanExtraction, AttrsExtraction\n",
    "from isimip_qa.assessments import YearlyAssessment"
   ]
  },
  {
   "cell_type": "code",
   "execution_count": 2,
   "id": "15656fd6-4d21-4277-a1b5-d5695235b834",
   "metadata": {},
   "outputs": [],
   "source": [
    "settings = init_settings(\n",
    "    protocol_path='ISIMIP3a/InputData/climate/atmosphere',\n",
    "    datasets_path='~/data/isimip/qa/datasets',\n",
    "    extractions_path='~/data/isimip/qa/extractions',\n",
    "    load=True # always loads the whole dataset in memory\n",
    ")"
   ]
  },
  {
   "cell_type": "code",
   "execution_count": 3,
   "id": "413b4f72-7053-4078-9b95-4e9d1e468728",
   "metadata": {},
   "outputs": [],
   "source": [
    "dataset = Dataset('ISIMIP3a/InputData/climate/atmosphere/obsclim/global/daily/historical/GSWP3-W5E5/gswp3-w5e5_obsclim_pr_global_daily')"
   ]
  },
  {
   "cell_type": "code",
   "execution_count": 4,
   "id": "5026f27e-d09b-46a0-be79-9707708b0405",
   "metadata": {},
   "outputs": [],
   "source": [
    "mean_extraction = MeanExtraction()"
   ]
  },
  {
   "cell_type": "code",
   "execution_count": 5,
   "id": "7a27481a-9295-45ca-82b8-0704060137c6",
   "metadata": {},
   "outputs": [],
   "source": [
    "regions = [\n",
    "    Region(\n",
    "        specifier=f'point-{i:0>4d}',\n",
    "        type='point',\n",
    "        lat=random.uniform(-90, 90),\n",
    "        lon=random.uniform(-180, 180)\n",
    "    ) for i in range(10)\n",
    "]"
   ]
  },
  {
   "cell_type": "code",
   "execution_count": 6,
   "id": "a7005017-9761-4ef0-97d4-22a13c676940",
   "metadata": {},
   "outputs": [],
   "source": [
    "for file in dataset.files:\n",
    "    file.open()\n",
    "    for region in regions:\n",
    "        mean_extraction.extract(dataset, region, file)\n",
    "    file.close()"
   ]
  },
  {
   "cell_type": "code",
   "execution_count": null,
   "id": "633340f9-e507-416e-baba-0c70ffe72426",
   "metadata": {},
   "outputs": [],
   "source": []
  }
 ],
 "metadata": {
  "kernelspec": {
   "display_name": "Python 3 (ipykernel)",
   "language": "python",
   "name": "python3"
  },
  "language_info": {
   "codemirror_mode": {
    "name": "ipython",
    "version": 3
   },
   "file_extension": ".py",
   "mimetype": "text/x-python",
   "name": "python",
   "nbconvert_exporter": "python",
   "pygments_lexer": "ipython3",
   "version": "3.11.0"
  }
 },
 "nbformat": 4,
 "nbformat_minor": 5
}
