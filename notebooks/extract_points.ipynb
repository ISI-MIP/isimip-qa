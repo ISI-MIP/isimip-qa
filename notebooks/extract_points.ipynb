{
 "cells": [
  {
   "cell_type": "code",
   "execution_count": null,
   "id": "c820d185-b5f8-443e-8992-b685838f8a80",
   "metadata": {},
   "outputs": [],
   "source": [
    "import random\n",
    "\n",
    "from isimip_qa.main import init_settings\n",
    "from isimip_qa.models import Dataset, Region, Period\n",
    "from isimip_qa.extractions import AttrsExtraction, MeanExtraction\n",
    "from isimip_qa.plots import DayOfYearPlot"
   ]
  },
  {
   "cell_type": "code",
   "execution_count": null,
   "id": "15656fd6-4d21-4277-a1b5-d5695235b834",
   "metadata": {},
   "outputs": [],
   "source": [
    "settings = init_settings(\n",
    "    datasets_path='~/data/isimip/qa/datasets',\n",
    "    extractions_path='~/data/isimip/qa/extractions',\n",
    "    load=True # always loads the whole dataset in memory\n",
    ")"
   ]
  },
  {
   "cell_type": "code",
   "execution_count": null,
   "id": "413b4f72-7053-4078-9b95-4e9d1e468728",
   "metadata": {},
   "outputs": [],
   "source": [
    "dataset = Dataset('ISIMIP3a/InputData/climate/atmosphere/obsclim/global/daily/historical/GSWP3-W5E5/gswp3-w5e5_obsclim_pr_global_daily')\n",
    "regions = [\n",
    "    Region(\n",
    "        specifier=f'point-{i:0>4d}',\n",
    "        type='point',\n",
    "        lat=random.uniform(-90, 90),\n",
    "        lon=random.uniform(-180, 180)\n",
    "    ) for i in range(10)\n",
    "]"
   ]
  },
  {
   "cell_type": "code",
   "execution_count": null,
   "id": "5026f27e-d09b-46a0-be79-9707708b0405",
   "metadata": {},
   "outputs": [],
   "source": [
    "extractions = []\n",
    "for region in regions:\n",
    "    extractions += [MeanExtraction(dataset, region=region), AttrsExtraction(dataset, region=region)]"
   ]
  },
  {
   "cell_type": "code",
   "execution_count": null,
   "id": "a7005017-9761-4ef0-97d4-22a13c676940",
   "metadata": {},
   "outputs": [],
   "source": [
    "for file in dataset.files:\n",
    "    file.open()\n",
    "    for extraction in extractions:\n",
    "        extraction.extract(file)\n",
    "    file.close()"
   ]
  },
  {
   "cell_type": "code",
   "execution_count": null,
   "id": "97330553-8383-477f-afbc-91f7831b7dc6",
   "metadata": {},
   "outputs": [],
   "source": [
    "for region in regions:\n",
    "    plot = DayOfYearPlot(MeanExtraction, [dataset], region=region)\n",
    "    plot.create()"
   ]
  }
 ],
 "metadata": {
  "kernelspec": {
   "display_name": "Python 3 (ipykernel)",
   "language": "python",
   "name": "python3"
  },
  "language_info": {
   "codemirror_mode": {
    "name": "ipython",
    "version": 3
   },
   "file_extension": ".py",
   "mimetype": "text/x-python",
   "name": "python",
   "nbconvert_exporter": "python",
   "pygments_lexer": "ipython3",
   "version": "3.11.0"
  }
 },
 "nbformat": 4,
 "nbformat_minor": 5
}
